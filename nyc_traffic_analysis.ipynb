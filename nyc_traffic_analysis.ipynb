{
 "cells": [
  {
   "cell_type": "markdown",
   "metadata": {
    "collapsed": false
   },
   "source": [
    "# Exploratory Data Analsysis"
   ]
  },
  {
   "cell_type": "code",
   "execution_count": 4,
   "metadata": {
    "collapsed": false,
    "jupyter": {
     "outputs_hidden": false
    }
   },
   "outputs": [
   ],
   "source": [
    "import pandas as pd\n",
    "pd.options.display.max_columns = 999"
   ]
  },
  {
   "cell_type": "code",
   "execution_count": 5,
   "metadata": {
    "collapsed": false,
    "jupyter": {
     "outputs_hidden": false
    }
   },
   "outputs": [
    {
     "data": {
      "text/html": [
       "<div>\n",
       "<style scoped>\n",
       "    .dataframe tbody tr th:only-of-type {\n",
       "        vertical-align: middle;\n",
       "    }\n",
       "\n",
       "    .dataframe tbody tr th {\n",
       "        vertical-align: top;\n",
       "    }\n",
       "\n",
       "    .dataframe thead th {\n",
       "        text-align: right;\n",
       "    }\n",
       "</style>\n",
       "<table border=\"1\" class=\"dataframe\">\n",
       "  <thead>\n",
       "    <tr style=\"text-align: right;\">\n",
       "      <th></th>\n",
       "      <th>timestamp</th>\n",
       "      <th>BOROUGH</th>\n",
       "      <th>ZIP CODE</th>\n",
       "      <th>LATITUDE</th>\n",
       "      <th>LONGITUDE</th>\n",
       "      <th>LOCATION</th>\n",
       "      <th>ON STREET NAME</th>\n",
       "      <th>CROSS STREET NAME</th>\n",
       "      <th>OFF STREET NAME</th>\n",
       "      <th>NUMBER OF PERSONS INJURED</th>\n",
       "      <th>NUMBER OF PERSONS KILLED</th>\n",
       "      <th>NUMBER OF PEDESTRIANS INJURED</th>\n",
       "      <th>NUMBER OF PEDESTRIANS KILLED</th>\n",
       "      <th>NUMBER OF CYCLIST INJURED</th>\n",
       "      <th>NUMBER OF CYCLIST KILLED</th>\n",
       "      <th>NUMBER OF MOTORIST INJURED</th>\n",
       "      <th>NUMBER OF MOTORIST KILLED</th>\n",
       "      <th>CONTRIBUTING FACTOR VEHICLE 1</th>\n",
       "      <th>CONTRIBUTING FACTOR VEHICLE 2</th>\n",
       "      <th>CONTRIBUTING FACTOR VEHICLE 3</th>\n",
       "      <th>CONTRIBUTING FACTOR VEHICLE 4</th>\n",
       "      <th>CONTRIBUTING FACTOR VEHICLE 5</th>\n",
       "      <th>COLLISION_ID</th>\n",
       "      <th>VEHICLE TYPE CODE 1</th>\n",
       "      <th>VEHICLE TYPE CODE 2</th>\n",
       "      <th>VEHICLE TYPE CODE 3</th>\n",
       "      <th>VEHICLE TYPE CODE 4</th>\n",
       "      <th>VEHICLE TYPE CODE 5</th>\n",
       "    </tr>\n",
       "  </thead>\n",
       "  <tbody>\n",
       "    <tr>\n",
       "      <th>0</th>\n",
       "      <td>2020-08-29 15:40:00</td>\n",
       "      <td>BRONX</td>\n",
       "      <td>10466.0</td>\n",
       "      <td>40.892100</td>\n",
       "      <td>-73.833760</td>\n",
       "      <td>POINT (-73.83376 40.8921)</td>\n",
       "      <td>PRATT AVENUE</td>\n",
       "      <td>STRANG AVENUE</td>\n",
       "      <td>NaN</td>\n",
       "      <td>0</td>\n",
       "      <td>0</td>\n",
       "      <td>0</td>\n",
       "      <td>0</td>\n",
       "      <td>0</td>\n",
       "      <td>0</td>\n",
       "      <td>0</td>\n",
       "      <td>0</td>\n",
       "      <td>Passing Too Closely</td>\n",
       "      <td>Unspecified</td>\n",
       "      <td>NaN</td>\n",
       "      <td>NaN</td>\n",
       "      <td>NaN</td>\n",
       "      <td>4342908</td>\n",
       "      <td>Sedan</td>\n",
       "      <td>Station Wagon/Sport Utility Vehicle</td>\n",
       "      <td>NaN</td>\n",
       "      <td>NaN</td>\n",
       "      <td>NaN</td>\n",
       "    </tr>\n",
       "    <tr>\n",
       "      <th>1</th>\n",
       "      <td>2020-08-29 21:00:00</td>\n",
       "      <td>BROOKLYN</td>\n",
       "      <td>11221.0</td>\n",
       "      <td>40.690500</td>\n",
       "      <td>-73.919914</td>\n",
       "      <td>POINT (-73.919914 40.6905)</td>\n",
       "      <td>BUSHWICK AVENUE</td>\n",
       "      <td>PALMETTO STREET</td>\n",
       "      <td>NaN</td>\n",
       "      <td>2</td>\n",
       "      <td>0</td>\n",
       "      <td>0</td>\n",
       "      <td>0</td>\n",
       "      <td>0</td>\n",
       "      <td>0</td>\n",
       "      <td>2</td>\n",
       "      <td>0</td>\n",
       "      <td>Reaction to Uninvolved Vehicle</td>\n",
       "      <td>Unspecified</td>\n",
       "      <td>NaN</td>\n",
       "      <td>NaN</td>\n",
       "      <td>NaN</td>\n",
       "      <td>4343555</td>\n",
       "      <td>Sedan</td>\n",
       "      <td>Sedan</td>\n",
       "      <td>NaN</td>\n",
       "      <td>NaN</td>\n",
       "      <td>NaN</td>\n",
       "    </tr>\n",
       "    <tr>\n",
       "      <th>2</th>\n",
       "      <td>2020-08-29 18:20:00</td>\n",
       "      <td>NaN</td>\n",
       "      <td>NaN</td>\n",
       "      <td>40.816500</td>\n",
       "      <td>-73.946556</td>\n",
       "      <td>POINT (-73.946556 40.8165)</td>\n",
       "      <td>8 AVENUE</td>\n",
       "      <td>NaN</td>\n",
       "      <td>NaN</td>\n",
       "      <td>1</td>\n",
       "      <td>0</td>\n",
       "      <td>1</td>\n",
       "      <td>0</td>\n",
       "      <td>0</td>\n",
       "      <td>0</td>\n",
       "      <td>0</td>\n",
       "      <td>0</td>\n",
       "      <td>Backing Unsafely</td>\n",
       "      <td>NaN</td>\n",
       "      <td>NaN</td>\n",
       "      <td>NaN</td>\n",
       "      <td>NaN</td>\n",
       "      <td>4343142</td>\n",
       "      <td>Station Wagon/Sport Utility Vehicle</td>\n",
       "      <td>NaN</td>\n",
       "      <td>NaN</td>\n",
       "      <td>NaN</td>\n",
       "      <td>NaN</td>\n",
       "    </tr>\n",
       "    <tr>\n",
       "      <th>3</th>\n",
       "      <td>2020-08-29 00:00:00</td>\n",
       "      <td>BRONX</td>\n",
       "      <td>10459.0</td>\n",
       "      <td>40.824720</td>\n",
       "      <td>-73.892960</td>\n",
       "      <td>POINT (-73.89296 40.82472)</td>\n",
       "      <td>NaN</td>\n",
       "      <td>NaN</td>\n",
       "      <td>1047 SIMPSON STREET</td>\n",
       "      <td>0</td>\n",
       "      <td>0</td>\n",
       "      <td>0</td>\n",
       "      <td>0</td>\n",
       "      <td>0</td>\n",
       "      <td>0</td>\n",
       "      <td>0</td>\n",
       "      <td>0</td>\n",
       "      <td>Unsafe Speed</td>\n",
       "      <td>Unspecified</td>\n",
       "      <td>Unspecified</td>\n",
       "      <td>Unspecified</td>\n",
       "      <td>NaN</td>\n",
       "      <td>4343588</td>\n",
       "      <td>Station Wagon/Sport Utility Vehicle</td>\n",
       "      <td>Station Wagon/Sport Utility Vehicle</td>\n",
       "      <td>Sedan</td>\n",
       "      <td>Motorcycle</td>\n",
       "      <td>NaN</td>\n",
       "    </tr>\n",
       "    <tr>\n",
       "      <th>4</th>\n",
       "      <td>2020-08-29 17:10:00</td>\n",
       "      <td>BROOKLYN</td>\n",
       "      <td>11203.0</td>\n",
       "      <td>40.649890</td>\n",
       "      <td>-73.933890</td>\n",
       "      <td>POINT (-73.93389 40.64989)</td>\n",
       "      <td>NaN</td>\n",
       "      <td>NaN</td>\n",
       "      <td>4609 SNYDER AVENUE</td>\n",
       "      <td>0</td>\n",
       "      <td>0</td>\n",
       "      <td>0</td>\n",
       "      <td>0</td>\n",
       "      <td>0</td>\n",
       "      <td>0</td>\n",
       "      <td>0</td>\n",
       "      <td>0</td>\n",
       "      <td>Failure to Yield Right-of-Way</td>\n",
       "      <td>Unspecified</td>\n",
       "      <td>NaN</td>\n",
       "      <td>NaN</td>\n",
       "      <td>NaN</td>\n",
       "      <td>4342953</td>\n",
       "      <td>Sedan</td>\n",
       "      <td>Sedan</td>\n",
       "      <td>NaN</td>\n",
       "      <td>NaN</td>\n",
       "      <td>NaN</td>\n",
       "    </tr>\n",
       "    <tr>\n",
       "      <th>5</th>\n",
       "      <td>2020-08-29 03:29:00</td>\n",
       "      <td>NaN</td>\n",
       "      <td>NaN</td>\n",
       "      <td>40.682310</td>\n",
       "      <td>-73.844950</td>\n",
       "      <td>POINT (-73.84495 40.68231)</td>\n",
       "      <td>WOODHAVEN BOULEVARD</td>\n",
       "      <td>NaN</td>\n",
       "      <td>NaN</td>\n",
       "      <td>1</td>\n",
       "      <td>0</td>\n",
       "      <td>0</td>\n",
       "      <td>0</td>\n",
       "      <td>0</td>\n",
       "      <td>0</td>\n",
       "      <td>1</td>\n",
       "      <td>0</td>\n",
       "      <td>Unspecified</td>\n",
       "      <td>Unspecified</td>\n",
       "      <td>NaN</td>\n",
       "      <td>NaN</td>\n",
       "      <td>NaN</td>\n",
       "      <td>4342721</td>\n",
       "      <td>Station Wagon/Sport Utility Vehicle</td>\n",
       "      <td>NaN</td>\n",
       "      <td>NaN</td>\n",
       "      <td>NaN</td>\n",
       "      <td>NaN</td>\n",
       "    </tr>\n",
       "    <tr>\n",
       "      <th>6</th>\n",
       "      <td>2020-08-29 19:30:00</td>\n",
       "      <td>BRONX</td>\n",
       "      <td>10459.0</td>\n",
       "      <td>40.825226</td>\n",
       "      <td>-73.887780</td>\n",
       "      <td>POINT (-73.88778 40.825226)</td>\n",
       "      <td>LONGFELLOW AVENUE</td>\n",
       "      <td>EAST 165 STREET</td>\n",
       "      <td>NaN</td>\n",
       "      <td>0</td>\n",
       "      <td>0</td>\n",
       "      <td>0</td>\n",
       "      <td>0</td>\n",
       "      <td>0</td>\n",
       "      <td>0</td>\n",
       "      <td>0</td>\n",
       "      <td>0</td>\n",
       "      <td>Unspecified</td>\n",
       "      <td>NaN</td>\n",
       "      <td>NaN</td>\n",
       "      <td>NaN</td>\n",
       "      <td>NaN</td>\n",
       "      <td>4343004</td>\n",
       "      <td>Station Wagon/Sport Utility Vehicle</td>\n",
       "      <td>NaN</td>\n",
       "      <td>NaN</td>\n",
       "      <td>NaN</td>\n",
       "      <td>NaN</td>\n",
       "    </tr>\n",
       "    <tr>\n",
       "      <th>7</th>\n",
       "      <td>2020-08-29 00:00:00</td>\n",
       "      <td>NaN</td>\n",
       "      <td>NaN</td>\n",
       "      <td>40.800160</td>\n",
       "      <td>-73.935380</td>\n",
       "      <td>POINT (-73.93538 40.80016)</td>\n",
       "      <td>2 AVENUE</td>\n",
       "      <td>NaN</td>\n",
       "      <td>NaN</td>\n",
       "      <td>0</td>\n",
       "      <td>0</td>\n",
       "      <td>0</td>\n",
       "      <td>0</td>\n",
       "      <td>0</td>\n",
       "      <td>0</td>\n",
       "      <td>0</td>\n",
       "      <td>0</td>\n",
       "      <td>Unsafe Lane Changing</td>\n",
       "      <td>Unspecified</td>\n",
       "      <td>NaN</td>\n",
       "      <td>NaN</td>\n",
       "      <td>NaN</td>\n",
       "      <td>4343342</td>\n",
       "      <td>Station Wagon/Sport Utility Vehicle</td>\n",
       "      <td>NaN</td>\n",
       "      <td>NaN</td>\n",
       "      <td>NaN</td>\n",
       "      <td>NaN</td>\n",
       "    </tr>\n",
       "    <tr>\n",
       "      <th>8</th>\n",
       "      <td>2020-08-29 19:50:00</td>\n",
       "      <td>BRONX</td>\n",
       "      <td>10466.0</td>\n",
       "      <td>40.894314</td>\n",
       "      <td>-73.860270</td>\n",
       "      <td>POINT (-73.86027 40.894314)</td>\n",
       "      <td>EAST 233 STREET</td>\n",
       "      <td>CARPENTER AVENUE</td>\n",
       "      <td>NaN</td>\n",
       "      <td>0</td>\n",
       "      <td>0</td>\n",
       "      <td>0</td>\n",
       "      <td>0</td>\n",
       "      <td>0</td>\n",
       "      <td>0</td>\n",
       "      <td>0</td>\n",
       "      <td>0</td>\n",
       "      <td>Unsafe Speed</td>\n",
       "      <td>Unspecified</td>\n",
       "      <td>Unspecified</td>\n",
       "      <td>NaN</td>\n",
       "      <td>NaN</td>\n",
       "      <td>4343030</td>\n",
       "      <td>Sedan</td>\n",
       "      <td>Station Wagon/Sport Utility Vehicle</td>\n",
       "      <td>Sedan</td>\n",
       "      <td>NaN</td>\n",
       "      <td>NaN</td>\n",
       "    </tr>\n",
       "    <tr>\n",
       "      <th>9</th>\n",
       "      <td>2020-08-29 09:20:00</td>\n",
       "      <td>QUEENS</td>\n",
       "      <td>11385.0</td>\n",
       "      <td>40.706780</td>\n",
       "      <td>-73.908880</td>\n",
       "      <td>POINT (-73.90888 40.70678)</td>\n",
       "      <td>NaN</td>\n",
       "      <td>NaN</td>\n",
       "      <td>565 WOODWARD AVENUE</td>\n",
       "      <td>0</td>\n",
       "      <td>0</td>\n",
       "      <td>0</td>\n",
       "      <td>0</td>\n",
       "      <td>0</td>\n",
       "      <td>0</td>\n",
       "      <td>0</td>\n",
       "      <td>0</td>\n",
       "      <td>Unspecified</td>\n",
       "      <td>NaN</td>\n",
       "      <td>NaN</td>\n",
       "      <td>NaN</td>\n",
       "      <td>NaN</td>\n",
       "      <td>4343040</td>\n",
       "      <td>Sedan</td>\n",
       "      <td>NaN</td>\n",
       "      <td>NaN</td>\n",
       "      <td>NaN</td>\n",
       "      <td>NaN</td>\n",
       "    </tr>\n",
       "  </tbody>\n",
       "</table>\n",
       "</div>"
      ],
      "text/plain": [
       "            timestamp   BOROUGH  ZIP CODE   LATITUDE  LONGITUDE  \\\n",
       "0 2020-08-29 15:40:00     BRONX   10466.0  40.892100 -73.833760   \n",
       "1 2020-08-29 21:00:00  BROOKLYN   11221.0  40.690500 -73.919914   \n",
       "2 2020-08-29 18:20:00       NaN       NaN  40.816500 -73.946556   \n",
       "3 2020-08-29 00:00:00     BRONX   10459.0  40.824720 -73.892960   \n",
       "4 2020-08-29 17:10:00  BROOKLYN   11203.0  40.649890 -73.933890   \n",
       "5 2020-08-29 03:29:00       NaN       NaN  40.682310 -73.844950   \n",
       "6 2020-08-29 19:30:00     BRONX   10459.0  40.825226 -73.887780   \n",
       "7 2020-08-29 00:00:00       NaN       NaN  40.800160 -73.935380   \n",
       "8 2020-08-29 19:50:00     BRONX   10466.0  40.894314 -73.860270   \n",
       "9 2020-08-29 09:20:00    QUEENS   11385.0  40.706780 -73.908880   \n",
       "\n",
       "                      LOCATION       ON STREET NAME CROSS STREET NAME  \\\n",
       "0    POINT (-73.83376 40.8921)         PRATT AVENUE     STRANG AVENUE   \n",
       "1   POINT (-73.919914 40.6905)      BUSHWICK AVENUE   PALMETTO STREET   \n",
       "2   POINT (-73.946556 40.8165)             8 AVENUE               NaN   \n",
       "3   POINT (-73.89296 40.82472)                  NaN               NaN   \n",
       "4   POINT (-73.93389 40.64989)                  NaN               NaN   \n",
       "5   POINT (-73.84495 40.68231)  WOODHAVEN BOULEVARD               NaN   \n",
       "6  POINT (-73.88778 40.825226)    LONGFELLOW AVENUE   EAST 165 STREET   \n",
       "7   POINT (-73.93538 40.80016)             2 AVENUE               NaN   \n",
       "8  POINT (-73.86027 40.894314)      EAST 233 STREET  CARPENTER AVENUE   \n",
       "9   POINT (-73.90888 40.70678)                  NaN               NaN   \n",
       "\n",
       "       OFF STREET NAME  NUMBER OF PERSONS INJURED  NUMBER OF PERSONS KILLED  \\\n",
       "0                  NaN                          0                         0   \n",
       "1                  NaN                          2                         0   \n",
       "2                  NaN                          1                         0   \n",
       "3  1047 SIMPSON STREET                          0                         0   \n",
       "4   4609 SNYDER AVENUE                          0                         0   \n",
       "5                  NaN                          1                         0   \n",
       "6                  NaN                          0                         0   \n",
       "7                  NaN                          0                         0   \n",
       "8                  NaN                          0                         0   \n",
       "9  565 WOODWARD AVENUE                          0                         0   \n",
       "\n",
       "   NUMBER OF PEDESTRIANS INJURED  NUMBER OF PEDESTRIANS KILLED  \\\n",
       "0                              0                             0   \n",
       "1                              0                             0   \n",
       "2                              1                             0   \n",
       "3                              0                             0   \n",
       "4                              0                             0   \n",
       "5                              0                             0   \n",
       "6                              0                             0   \n",
       "7                              0                             0   \n",
       "8                              0                             0   \n",
       "9                              0                             0   \n",
       "\n",
       "   NUMBER OF CYCLIST INJURED  NUMBER OF CYCLIST KILLED  \\\n",
       "0                          0                         0   \n",
       "1                          0                         0   \n",
       "2                          0                         0   \n",
       "3                          0                         0   \n",
       "4                          0                         0   \n",
       "5                          0                         0   \n",
       "6                          0                         0   \n",
       "7                          0                         0   \n",
       "8                          0                         0   \n",
       "9                          0                         0   \n",
       "\n",
       "   NUMBER OF MOTORIST INJURED  NUMBER OF MOTORIST KILLED  \\\n",
       "0                           0                          0   \n",
       "1                           2                          0   \n",
       "2                           0                          0   \n",
       "3                           0                          0   \n",
       "4                           0                          0   \n",
       "5                           1                          0   \n",
       "6                           0                          0   \n",
       "7                           0                          0   \n",
       "8                           0                          0   \n",
       "9                           0                          0   \n",
       "\n",
       "    CONTRIBUTING FACTOR VEHICLE 1 CONTRIBUTING FACTOR VEHICLE 2  \\\n",
       "0             Passing Too Closely                   Unspecified   \n",
       "1  Reaction to Uninvolved Vehicle                   Unspecified   \n",
       "2                Backing Unsafely                           NaN   \n",
       "3                    Unsafe Speed                   Unspecified   \n",
       "4   Failure to Yield Right-of-Way                   Unspecified   \n",
       "5                     Unspecified                   Unspecified   \n",
       "6                     Unspecified                           NaN   \n",
       "7            Unsafe Lane Changing                   Unspecified   \n",
       "8                    Unsafe Speed                   Unspecified   \n",
       "9                     Unspecified                           NaN   \n",
       "\n",
       "  CONTRIBUTING FACTOR VEHICLE 3 CONTRIBUTING FACTOR VEHICLE 4  \\\n",
       "0                           NaN                           NaN   \n",
       "1                           NaN                           NaN   \n",
       "2                           NaN                           NaN   \n",
       "3                   Unspecified                   Unspecified   \n",
       "4                           NaN                           NaN   \n",
       "5                           NaN                           NaN   \n",
       "6                           NaN                           NaN   \n",
       "7                           NaN                           NaN   \n",
       "8                   Unspecified                           NaN   \n",
       "9                           NaN                           NaN   \n",
       "\n",
       "  CONTRIBUTING FACTOR VEHICLE 5  COLLISION_ID  \\\n",
       "0                           NaN       4342908   \n",
       "1                           NaN       4343555   \n",
       "2                           NaN       4343142   \n",
       "3                           NaN       4343588   \n",
       "4                           NaN       4342953   \n",
       "5                           NaN       4342721   \n",
       "6                           NaN       4343004   \n",
       "7                           NaN       4343342   \n",
       "8                           NaN       4343030   \n",
       "9                           NaN       4343040   \n",
       "\n",
       "                   VEHICLE TYPE CODE 1                  VEHICLE TYPE CODE 2  \\\n",
       "0                                Sedan  Station Wagon/Sport Utility Vehicle   \n",
       "1                                Sedan                                Sedan   \n",
       "2  Station Wagon/Sport Utility Vehicle                                  NaN   \n",
       "3  Station Wagon/Sport Utility Vehicle  Station Wagon/Sport Utility Vehicle   \n",
       "4                                Sedan                                Sedan   \n",
       "5  Station Wagon/Sport Utility Vehicle                                  NaN   \n",
       "6  Station Wagon/Sport Utility Vehicle                                  NaN   \n",
       "7  Station Wagon/Sport Utility Vehicle                                  NaN   \n",
       "8                                Sedan  Station Wagon/Sport Utility Vehicle   \n",
       "9                                Sedan                                  NaN   \n",
       "\n",
       "  VEHICLE TYPE CODE 3 VEHICLE TYPE CODE 4 VEHICLE TYPE CODE 5  \n",
       "0                 NaN                 NaN                 NaN  \n",
       "1                 NaN                 NaN                 NaN  \n",
       "2                 NaN                 NaN                 NaN  \n",
       "3               Sedan          Motorcycle                 NaN  \n",
       "4                 NaN                 NaN                 NaN  \n",
       "5                 NaN                 NaN                 NaN  \n",
       "6                 NaN                 NaN                 NaN  \n",
       "7                 NaN                 NaN                 NaN  \n",
       "8               Sedan                 NaN                 NaN  \n",
       "9                 NaN                 NaN                 NaN  "
      ]
     },
     "execution_count": 5,
     "metadata": {
     },
     "output_type": "execute_result"
    }
   ],
   "source": [
    "df = pd.read_csv('traffic.zip', parse_dates={'timestamp':[0,1]}) #look up time zones (UTC)\n",
    "df.head(10)"
   ]
  },
  {
   "cell_type": "code",
   "execution_count": 3,
   "metadata": {
    "collapsed": false,
    "jupyter": {
     "outputs_hidden": false
    }
   },
   "outputs": [
    {
     "name": "stdout",
     "output_type": "stream",
     "text": [
      "Index(['timestamp', 'BOROUGH', 'ZIP CODE', 'LATITUDE', 'LONGITUDE', 'LOCATION',\n",
      "       'ON STREET NAME', 'CROSS STREET NAME', 'OFF STREET NAME',\n",
      "       'NUMBER OF PERSONS INJURED', 'NUMBER OF PERSONS KILLED',\n",
      "       'NUMBER OF PEDESTRIANS INJURED', 'NUMBER OF PEDESTRIANS KILLED',\n",
      "       'NUMBER OF CYCLIST INJURED', 'NUMBER OF CYCLIST KILLED',\n",
      "       'NUMBER OF MOTORIST INJURED', 'NUMBER OF MOTORIST KILLED',\n",
      "       'CONTRIBUTING FACTOR VEHICLE 1', 'CONTRIBUTING FACTOR VEHICLE 2',\n",
      "       'CONTRIBUTING FACTOR VEHICLE 3', 'CONTRIBUTING FACTOR VEHICLE 4',\n",
      "       'CONTRIBUTING FACTOR VEHICLE 5', 'COLLISION_ID', 'VEHICLE TYPE CODE 1',\n",
      "       'VEHICLE TYPE CODE 2', 'VEHICLE TYPE CODE 3', 'VEHICLE TYPE CODE 4',\n",
      "       'VEHICLE TYPE CODE 5'],\n",
      "      dtype='object')\n"
     ]
    }
   ],
   "source": [
    "print(df.columns)"
   ]
  },
  {
   "cell_type": "code",
   "execution_count": 4,
   "metadata": {
    "collapsed": false,
    "jupyter": {
     "outputs_hidden": false
    }
   },
   "outputs": [
    {
     "data": {
      "text/plain": [
       "timestamp                        datetime64[ns]\n",
       "BOROUGH                                  object\n",
       "ZIP CODE                                float64\n",
       "LATITUDE                                float64\n",
       "LONGITUDE                               float64\n",
       "LOCATION                                 object\n",
       "ON STREET NAME                           object\n",
       "CROSS STREET NAME                        object\n",
       "OFF STREET NAME                          object\n",
       "NUMBER OF PERSONS INJURED                 int64\n",
       "NUMBER OF PERSONS KILLED                  int64\n",
       "NUMBER OF PEDESTRIANS INJURED             int64\n",
       "NUMBER OF PEDESTRIANS KILLED              int64\n",
       "NUMBER OF CYCLIST INJURED                 int64\n",
       "NUMBER OF CYCLIST KILLED                  int64\n",
       "NUMBER OF MOTORIST INJURED                int64\n",
       "NUMBER OF MOTORIST KILLED                 int64\n",
       "CONTRIBUTING FACTOR VEHICLE 1            object\n",
       "CONTRIBUTING FACTOR VEHICLE 2            object\n",
       "CONTRIBUTING FACTOR VEHICLE 3            object\n",
       "CONTRIBUTING FACTOR VEHICLE 4            object\n",
       "CONTRIBUTING FACTOR VEHICLE 5            object\n",
       "COLLISION_ID                              int64\n",
       "VEHICLE TYPE CODE 1                      object\n",
       "VEHICLE TYPE CODE 2                      object\n",
       "VEHICLE TYPE CODE 3                      object\n",
       "VEHICLE TYPE CODE 4                      object\n",
       "VEHICLE TYPE CODE 5                      object\n",
       "dtype: object"
      ]
     },
     "execution_count": 4,
     "metadata": {
     },
     "output_type": "execute_result"
    }
   ],
   "source": [
    "df.dtypes"
   ]
  },
  {
   "cell_type": "code",
   "execution_count": 5,
   "metadata": {
    "collapsed": false,
    "jupyter": {
     "outputs_hidden": false
    }
   },
   "outputs": [
    {
     "data": {
      "text/plain": [
       "<AxesSubplot:>"
      ]
     },
     "execution_count": 5,
     "metadata": {
     },
     "output_type": "execute_result"
    },
    {
     "data": {
      "image/png": "[encoded data removed]",
      "text/plain": [
       "<Figure size 864x504 with 1 Axes>"
      ]
     },
     "execution_count": 5,
     "metadata": {
      "image/png": {
       "height": 411,
       "width": 723
      },
      "needs_background": "light"
     },
     "output_type": "execute_result"
    }
   ],
   "source": [
    "df.timestamp.dt.day_name().hist(bins=7)"
   ]
  },
  {
   "cell_type": "code",
   "execution_count": 6,
   "metadata": {
    "collapsed": false,
    "jupyter": {
     "outputs_hidden": false
    }
   },
   "outputs": [
    {
     "name": "stderr",
     "output_type": "stream",
     "text": [
      "/tmp/ipykernel_360/3657816558.py:1: FutureWarning: Series.dt.weekofyear and Series.dt.week have been deprecated. Please use Series.dt.isocalendar().week instead.\n",
      "  df.timestamp.dt.weekofyear.hist(bins=52)\n"
     ]
    },
    {
     "data": {
      "text/plain": [
       "<AxesSubplot:>"
      ]
     },
     "execution_count": 6,
     "metadata": {
     },
     "output_type": "execute_result"
    },
    {
     "data": {
      "image/png": "[encoded data removed]",
      "text/plain": [
       "<Figure size 864x504 with 1 Axes>"
      ]
     },
     "execution_count": 6,
     "metadata": {
      "image/png": {
       "height": 411,
       "width": 716
      },
      "needs_background": "light"
     },
     "output_type": "execute_result"
    }
   ],
   "source": [
    "df.timestamp.dt.weekofyear.hist(bins=52)"
   ]
  },
  {
   "cell_type": "code",
   "execution_count": 7,
   "metadata": {
    "collapsed": false,
    "jupyter": {
     "outputs_hidden": false
    }
   },
   "outputs": [
    {
     "name": "stderr",
     "output_type": "stream",
     "text": [
      "/tmp/ipykernel_360/3977968038.py:1: FutureWarning: Treating datetime data as categorical rather than numeric in `.describe` is deprecated and will be removed in a future version of pandas. Specify `datetime_is_numeric=True` to silence this warning and adopt the future behavior now.\n",
      "  df.timestamp.describe()\n"
     ]
    },
    {
     "data": {
      "text/plain": [
       "count                   74881\n",
       "unique                  49697\n",
       "top       2020-01-18 13:30:00\n",
       "freq                       31\n",
       "first     2020-01-01 00:00:00\n",
       "last      2020-08-29 23:50:00\n",
       "Name: timestamp, dtype: object"
      ]
     },
     "execution_count": 7,
     "metadata": {
     },
     "output_type": "execute_result"
    }
   ],
   "source": [
    "df.timestamp.describe()"
   ]
  },
  {
   "cell_type": "code",
   "execution_count": 8,
   "metadata": {
    "collapsed": false,
    "jupyter": {
     "outputs_hidden": false
    }
   },
   "outputs": [
    {
     "data": {
      "image/png": "[encoded data removed]",
      "text/plain": [
       "<Figure size 864x504 with 1 Axes>"
      ]
     },
     "execution_count": 8,
     "metadata": {
      "image/png": {
       "height": 447,
       "width": 723
      },
      "needs_background": "light"
     },
     "output_type": "execute_result"
    }
   ],
   "source": [
    "ax = df.groupby(['BOROUGH']).apply(len).plot.bar(color='green')\n",
    "ax.set_title('Number of Accidents by Borough', fontsize=22)\n",
    "ax.tick_params(axis='x', rotation=0)"
   ]
  },
  {
   "cell_type": "code",
   "execution_count": 9,
   "metadata": {
    "collapsed": false,
    "jupyter": {
     "outputs_hidden": false
    }
   },
   "outputs": [
    {
     "data": {
      "text/html": [
       "<div>\n",
       "<style scoped>\n",
       "    .dataframe tbody tr th:only-of-type {\n",
       "        vertical-align: middle;\n",
       "    }\n",
       "\n",
       "    .dataframe tbody tr th {\n",
       "        vertical-align: top;\n",
       "    }\n",
       "\n",
       "    .dataframe thead th {\n",
       "        text-align: right;\n",
       "    }\n",
       "</style>\n",
       "<table border=\"1\" class=\"dataframe\">\n",
       "  <thead>\n",
       "    <tr style=\"text-align: right;\">\n",
       "      <th>BOROUGH</th>\n",
       "      <th>BRONX</th>\n",
       "      <th>BROOKLYN</th>\n",
       "      <th>MANHATTAN</th>\n",
       "      <th>QUEENS</th>\n",
       "      <th>STATEN ISLAND</th>\n",
       "    </tr>\n",
       "    <tr>\n",
       "      <th>weekday</th>\n",
       "      <th></th>\n",
       "      <th></th>\n",
       "      <th></th>\n",
       "      <th></th>\n",
       "      <th></th>\n",
       "    </tr>\n",
       "  </thead>\n",
       "  <tbody>\n",
       "    <tr>\n",
       "      <th>0</th>\n",
       "      <td>1347</td>\n",
       "      <td>2337</td>\n",
       "      <td>993</td>\n",
       "      <td>1995</td>\n",
       "      <td>178</td>\n",
       "    </tr>\n",
       "    <tr>\n",
       "      <th>1</th>\n",
       "      <td>1339</td>\n",
       "      <td>2450</td>\n",
       "      <td>1103</td>\n",
       "      <td>1939</td>\n",
       "      <td>221</td>\n",
       "    </tr>\n",
       "    <tr>\n",
       "      <th>2</th>\n",
       "      <td>1296</td>\n",
       "      <td>2391</td>\n",
       "      <td>1084</td>\n",
       "      <td>2014</td>\n",
       "      <td>198</td>\n",
       "    </tr>\n",
       "    <tr>\n",
       "      <th>3</th>\n",
       "      <td>1448</td>\n",
       "      <td>2557</td>\n",
       "      <td>1184</td>\n",
       "      <td>2011</td>\n",
       "      <td>209</td>\n",
       "    </tr>\n",
       "    <tr>\n",
       "      <th>4</th>\n",
       "      <td>1511</td>\n",
       "      <td>2758</td>\n",
       "      <td>1286</td>\n",
       "      <td>2222</td>\n",
       "      <td>250</td>\n",
       "    </tr>\n",
       "    <tr>\n",
       "      <th>5</th>\n",
       "      <td>1378</td>\n",
       "      <td>2363</td>\n",
       "      <td>934</td>\n",
       "      <td>2046</td>\n",
       "      <td>205</td>\n",
       "    </tr>\n",
       "    <tr>\n",
       "      <th>6</th>\n",
       "      <td>1098</td>\n",
       "      <td>2051</td>\n",
       "      <td>769</td>\n",
       "      <td>1790</td>\n",
       "      <td>185</td>\n",
       "    </tr>\n",
       "  </tbody>\n",
       "</table>\n",
       "</div>"
      ],
      "text/plain": [
       "BOROUGH  BRONX  BROOKLYN  MANHATTAN  QUEENS  STATEN ISLAND\n",
       "weekday                                                   \n",
       "0         1347      2337        993    1995            178\n",
       "1         1339      2450       1103    1939            221\n",
       "2         1296      2391       1084    2014            198\n",
       "3         1448      2557       1184    2011            209\n",
       "4         1511      2758       1286    2222            250\n",
       "5         1378      2363        934    2046            205\n",
       "6         1098      2051        769    1790            185"
      ]
     },
     "execution_count": 9,
     "metadata": {
     },
     "output_type": "execute_result"
    }
   ],
   "source": [
    "day = df.timestamp.dt.day_of_week\n",
    "day.name = 'weekday'\n",
    "df.groupby(['BOROUGH', day]).apply(len).unstack(0)"
   ]
  },
  {
   "cell_type": "code",
   "execution_count": 10,
   "metadata": {
    "collapsed": false,
    "jupyter": {
     "outputs_hidden": false
    }
   },
   "outputs": [
    {
     "data": {
      "text/html": [
       "<div>\n",
       "<style scoped>\n",
       "    .dataframe tbody tr th:only-of-type {\n",
       "        vertical-align: middle;\n",
       "    }\n",
       "\n",
       "    .dataframe tbody tr th {\n",
       "        vertical-align: top;\n",
       "    }\n",
       "\n",
       "    .dataframe thead th {\n",
       "        text-align: right;\n",
       "    }\n",
       "</style>\n",
       "<table border=\"1\" class=\"dataframe\">\n",
       "  <thead>\n",
       "    <tr style=\"text-align: right;\">\n",
       "      <th>weekday</th>\n",
       "      <th>0</th>\n",
       "      <th>1</th>\n",
       "      <th>2</th>\n",
       "      <th>3</th>\n",
       "      <th>4</th>\n",
       "      <th>5</th>\n",
       "      <th>6</th>\n",
       "    </tr>\n",
       "    <tr>\n",
       "      <th>BOROUGH</th>\n",
       "      <th></th>\n",
       "      <th></th>\n",
       "      <th></th>\n",
       "      <th></th>\n",
       "      <th></th>\n",
       "      <th></th>\n",
       "      <th></th>\n",
       "    </tr>\n",
       "  </thead>\n",
       "  <tbody>\n",
       "    <tr>\n",
       "      <th>BRONX</th>\n",
       "      <td>1347</td>\n",
       "      <td>1339</td>\n",
       "      <td>1296</td>\n",
       "      <td>1448</td>\n",
       "      <td>1511</td>\n",
       "      <td>1378</td>\n",
       "      <td>1098</td>\n",
       "    </tr>\n",
       "    <tr>\n",
       "      <th>BROOKLYN</th>\n",
       "      <td>2337</td>\n",
       "      <td>2450</td>\n",
       "      <td>2391</td>\n",
       "      <td>2557</td>\n",
       "      <td>2758</td>\n",
       "      <td>2363</td>\n",
       "      <td>2051</td>\n",
       "    </tr>\n",
       "    <tr>\n",
       "      <th>MANHATTAN</th>\n",
       "      <td>993</td>\n",
       "      <td>1103</td>\n",
       "      <td>1084</td>\n",
       "      <td>1184</td>\n",
       "      <td>1286</td>\n",
       "      <td>934</td>\n",
       "      <td>769</td>\n",
       "    </tr>\n",
       "    <tr>\n",
       "      <th>QUEENS</th>\n",
       "      <td>1995</td>\n",
       "      <td>1939</td>\n",
       "      <td>2014</td>\n",
       "      <td>2011</td>\n",
       "      <td>2222</td>\n",
       "      <td>2046</td>\n",
       "      <td>1790</td>\n",
       "    </tr>\n",
       "    <tr>\n",
       "      <th>STATEN ISLAND</th>\n",
       "      <td>178</td>\n",
       "      <td>221</td>\n",
       "      <td>198</td>\n",
       "      <td>209</td>\n",
       "      <td>250</td>\n",
       "      <td>205</td>\n",
       "      <td>185</td>\n",
       "    </tr>\n",
       "  </tbody>\n",
       "</table>\n",
       "</div>"
      ],
      "text/plain": [
       "weekday           0     1     2     3     4     5     6\n",
       "BOROUGH                                                \n",
       "BRONX          1347  1339  1296  1448  1511  1378  1098\n",
       "BROOKLYN       2337  2450  2391  2557  2758  2363  2051\n",
       "MANHATTAN       993  1103  1084  1184  1286   934   769\n",
       "QUEENS         1995  1939  2014  2011  2222  2046  1790\n",
       "STATEN ISLAND   178   221   198   209   250   205   185"
      ]
     },
     "execution_count": 10,
     "metadata": {
     },
     "output_type": "execute_result"
    }
   ],
   "source": [
    "df.groupby(['BOROUGH', day]).apply(len).unstack(1)"
   ]
  },
  {
   "cell_type": "code",
   "execution_count": 0,
   "metadata": {
    "collapsed": false,
    "jupyter": {
     "outputs_hidden": false
    }
   },
   "outputs": [
   ],
   "source": [
   ]
  }
 ],
 "metadata": {
  "kernelspec": {
   "display_name": "Python 3 (system-wide)",
   "language": "python",
   "metadata": {
    "cocalc": {
     "description": "Python 3 programming language",
     "priority": 100,
     "url": "https://www.python.org/"
    }
   },
   "name": "python3",
   "resource_dir": "/ext/jupyter/kernels/python3"
  },
  "language_info": {
   "codemirror_mode": {
    "name": "ipython",
    "version": 3
   },
   "file_extension": ".py",
   "mimetype": "text/x-python",
   "name": "python",
   "nbconvert_exporter": "python",
   "pygments_lexer": "ipython3",
   "version": "3.8.10"
  },
  "toc-autonumbering": true
 },
 "nbformat": 4,
 "nbformat_minor": 4
}